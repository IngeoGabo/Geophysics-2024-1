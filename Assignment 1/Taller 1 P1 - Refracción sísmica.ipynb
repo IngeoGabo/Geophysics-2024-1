{
 "cells": [
  {
   "cell_type": "markdown",
   "metadata": {},
   "source": [
    "1. Elabore un diagrama t vs x con los datos de las recolecciones del registro que se muestra en la figura. Suponga que el registro es de capas horizontales. Determine el número de capas presentes, y las velocidades y el espesor de cada una (hasta donde sea posible)."
   ]
  },
  {
   "cell_type": "code",
   "execution_count": 1,
   "metadata": {},
   "outputs": [],
   "source": [
    "t = [23, 33, 40, 47, 54, 60, 67, 70, 72, 74,78, 80, 84] #tiempo de llegada a los geófonos (en ms)\n",
    "d = [5, 15, 25, 35, 45, 55, 65, 75, 85, 95, 105, 115, 125] #distancia de los geófonos al shotpoint (en m)"
   ]
  },
  {
   "cell_type": "code",
   "execution_count": 2,
   "metadata": {},
   "outputs": [],
   "source": [
    "import matplotlib.pyplot as plt #importo la libreria para graficar\n",
    "import numpy as np\n",
    "import pandas as pd"
   ]
  },
  {
   "cell_type": "code",
   "execution_count": 3,
   "metadata": {},
   "outputs": [
    {
     "data": {
      "text/html": [
       "<div>\n",
       "<style scoped>\n",
       "    .dataframe tbody tr th:only-of-type {\n",
       "        vertical-align: middle;\n",
       "    }\n",
       "\n",
       "    .dataframe tbody tr th {\n",
       "        vertical-align: top;\n",
       "    }\n",
       "\n",
       "    .dataframe thead th {\n",
       "        text-align: right;\n",
       "    }\n",
       "</style>\n",
       "<table border=\"1\" class=\"dataframe\">\n",
       "  <thead>\n",
       "    <tr style=\"text-align: right;\">\n",
       "      <th></th>\n",
       "      <th>Distancia</th>\n",
       "    </tr>\n",
       "    <tr>\n",
       "      <th>Tiempo</th>\n",
       "      <th></th>\n",
       "    </tr>\n",
       "  </thead>\n",
       "  <tbody>\n",
       "    <tr>\n",
       "      <th>23</th>\n",
       "      <td>5</td>\n",
       "    </tr>\n",
       "    <tr>\n",
       "      <th>33</th>\n",
       "      <td>15</td>\n",
       "    </tr>\n",
       "    <tr>\n",
       "      <th>40</th>\n",
       "      <td>25</td>\n",
       "    </tr>\n",
       "    <tr>\n",
       "      <th>47</th>\n",
       "      <td>35</td>\n",
       "    </tr>\n",
       "    <tr>\n",
       "      <th>54</th>\n",
       "      <td>45</td>\n",
       "    </tr>\n",
       "    <tr>\n",
       "      <th>60</th>\n",
       "      <td>55</td>\n",
       "    </tr>\n",
       "    <tr>\n",
       "      <th>67</th>\n",
       "      <td>65</td>\n",
       "    </tr>\n",
       "    <tr>\n",
       "      <th>70</th>\n",
       "      <td>75</td>\n",
       "    </tr>\n",
       "    <tr>\n",
       "      <th>72</th>\n",
       "      <td>85</td>\n",
       "    </tr>\n",
       "    <tr>\n",
       "      <th>74</th>\n",
       "      <td>95</td>\n",
       "    </tr>\n",
       "    <tr>\n",
       "      <th>78</th>\n",
       "      <td>105</td>\n",
       "    </tr>\n",
       "    <tr>\n",
       "      <th>80</th>\n",
       "      <td>115</td>\n",
       "    </tr>\n",
       "    <tr>\n",
       "      <th>84</th>\n",
       "      <td>125</td>\n",
       "    </tr>\n",
       "  </tbody>\n",
       "</table>\n",
       "</div>"
      ],
      "text/plain": [
       "        Distancia\n",
       "Tiempo           \n",
       "23              5\n",
       "33             15\n",
       "40             25\n",
       "47             35\n",
       "54             45\n",
       "60             55\n",
       "67             65\n",
       "70             75\n",
       "72             85\n",
       "74             95\n",
       "78            105\n",
       "80            115\n",
       "84            125"
      ]
     },
     "execution_count": 3,
     "metadata": {},
     "output_type": "execute_result"
    }
   ],
   "source": [
    "df=pd.DataFrame({'Distancia':d, 'Tiempo':t})\n",
    "df.set_index('Tiempo', inplace=True)\n",
    "df\n"
   ]
  },
  {
   "cell_type": "code",
   "execution_count": 4,
   "metadata": {},
   "outputs": [
    {
     "data": {
      "image/png": "[encoded data removed]",
      "text/plain": [
       "<Figure size 640x480 with 1 Axes>"
      ]
     },
     "metadata": {},
     "output_type": "display_data"
    }
   ],
   "source": [
    "plt.xlabel('Distancia (m)', weight='bold', fontsize='14')\n",
    "plt.ylabel('Tiempo (ms)', weight='bold', fontsize='14')\n",
    "plt.title('Registro tiempo vs distancia', weight='bold', fontsize='14')\n",
    "\n",
    "plt.plot(d,t, marker='.', linestyle = '', color='blue')\n",
    "\n",
    "plt.xticks(np.arange(5, 140, step=10))\n",
    "#plt.xticks((np.concatenate((np.arange(0, 5, step=10), np.arange(5, 140, step=10)))))\n",
    "plt.yticks(np.arange(0, 90, step=10))\n",
    "plt.grid('true')\n",
    "\n",
    "plt.show()\n"
   ]
  },
  {
   "cell_type": "markdown",
   "metadata": {},
   "source": [
    "En la grafica se pueden observan dos tendencias predominantes (dos cambios de pendiente) que sugieren, que una vez llegado el rayo a la frontera, este se refractó cíticamente y generó nuevas fuentes puntuales de ondas secundarías que se refractarían con el mismo ángulo con el que incidió el primer rayo, pero en durección hacia la superficie. Debido a que en el registro solo se observan dos cambios notorios, esto es indicativo de que el ensayo sólo identificó una frontera.\n",
    "\n",
    "Every single source of information keeps the rate of changing quite closely for each tendence. Therefore, this information suggest that each tendece can be aproximated to a line. Thus two tendences implies two lines.\n",
    "\n",
    "Let's proceed to make a linear regression taking each tendency with its corresponding data."
   ]
  },
  {
   "cell_type": "code",
   "execution_count": 5,
   "metadata": {},
   "outputs": [
    {
     "name": "stdout",
     "output_type": "stream",
     "text": [
      "[23, 33, 40, 47, 54, 60, 67] [5, 15, 25, 35, 45, 55, 65] [67, 70, 72, 74, 78, 80, 84] [65, 75, 85, 95, 105, 115, 125]\n"
     ]
    }
   ],
   "source": [
    "dwt = t[0:7] #Tomo un rango de la lista t (direct wave tiem = dwt)\n",
    "dwd = d[0:7] #Tomo un rango de la lista d (direct wave distnace = dwd)\n",
    "cwt = t[6:13] #Tomo un rango de la lista t (critic refracted wave tiem = cwt)\n",
    "cwd = d[6:13] #Tomo un rango de la lista d (critic refracted distnace = cwd)\n",
    "\n",
    "print(dwt, dwd, cwt, cwd)\n"
   ]
  },
  {
   "cell_type": "code",
   "execution_count": 6,
   "metadata": {},
   "outputs": [
    {
     "name": "stdout",
     "output_type": "stream",
     "text": [
      "48.875\n"
     ]
    }
   ],
   "source": [
    "from spicy import stats\n",
    "\n",
    "# Realiza una regresión lineal para el primer par de datos (X,Y)\n",
    "slope1, intercept1, r_value1, p_value1, std_err1 = stats.linregress(dwd,dwt) \n",
    "\n",
    "# Realiza una regresión lineal para el segundo par de datos\n",
    "slope2, intercept2, r_value2, p_value2, std_err2 = stats.linregress(cwd, cwt)\n",
    "\n",
    "print(intercept2)"
   ]
  },
  {
   "cell_type": "code",
   "execution_count": 7,
   "metadata": {},
   "outputs": [],
   "source": [
    "dwt1 = np.array(t[0:7]) #Tomo un rango de la lista t (direct wave tiem = dwt)\n",
    "dwd1 = np.array(d[0:7]) #Tomo un rango de la lista d (direct wave distnace = dwd)\n",
    "cwt1 = np.array(t[6:13]) #Tomo un rango de la lista t (critic refracted wave tiem = cwt)\n",
    "cwd1 = np.array(d[6:13]) #Tomo un rango de la lista d (critic refracted distnace = cwd)"
   ]
  },
  {
   "cell_type": "code",
   "execution_count": 8,
   "metadata": {},
   "outputs": [
    {
     "data": {
      "image/png": "[encoded data removed]",
      "text/plain": [
       "<Figure size 640x480 with 1 Axes>"
      ]
     },
     "metadata": {},
     "output_type": "display_data"
    }
   ],
   "source": [
    "# y = mx + b , where m = slope1 and, b = intercept1\n",
    "\n",
    "#The following is the line's equation for the direct wave\n",
    "y1= slope1*dwd1 + intercept1\n",
    "plt.plot(dwd1, y1, color=\"orange\", label=\"Recta de Regresión\")\n",
    "\n",
    "#The following is the line's equation for the critical refracted wave\n",
    "y2= slope2*cwd1 + intercept2\n",
    "plt.plot(cwd1, y2, color=\"green\", label=\"Recta de Regresión\")\n",
    "\n",
    "# Graphic\n",
    "plt.xlabel('Distancia (m)', weight='bold', fontsize='14')\n",
    "plt.ylabel('Tiempo (ms)', weight='bold', fontsize='14')\n",
    "plt.title('Registro tiempo vs distancia', weight='bold', fontsize='14')\n",
    "\n",
    "plt.plot(d,t, marker='*', linestyle = '', color='blue')\n",
    "\n",
    "plt.xticks(np.arange(5, 140, step=10))\n",
    "#plt.xticks((np.concatenate((np.arange(0, 5, step=10), np.arange(5, 140, step=10)))))\n",
    "plt.yticks(np.arange(0, 90, step=10))\n",
    "plt.grid('true')\n",
    "\n",
    "plt.show()"
   ]
  },
  {
   "cell_type": "code",
   "execution_count": 9,
   "metadata": {},
   "outputs": [
    {
     "name": "stdout",
     "output_type": "stream",
     "text": [
      "Direct wave slope(m1): 0.714 ms/m\n",
      "Direct wave intercept (t01): 21.286 ms\n",
      "\n",
      "Critically refracted slope wave(m2): 0.275 ms/m\n",
      "Critically refracted intercept wave (t02): 48.875 ms\n"
     ]
    }
   ],
   "source": [
    "#Pendiente e intersección de la onda directa\n",
    "print('Direct wave slope(m1):', round(slope1,3),'ms/m')\n",
    "print('Direct wave intercept (t01):', round(intercept1,3),'ms')\n",
    "print()\n",
    "print('Critically refracted slope wave(m2):', round(slope2,3),'ms/m')\n",
    "print('Critically refracted intercept wave (t02):', round(intercept2,3),'ms')"
   ]
  },
  {
   "cell_type": "markdown",
   "metadata": {},
   "source": [
    "Como la pendiente es igual al inverso de la velocidad, ésta se debe despejar para conocer la velocidad de ambos tramos"
   ]
  },
  {
   "cell_type": "code",
   "execution_count": 10,
   "metadata": {},
   "outputs": [
    {
     "name": "stdout",
     "output_type": "stream",
     "text": [
      "Direct wave velocity: 1.4 m/ms\n",
      "\n",
      "Critically refracted wave velocity: 3.636 m/ms\n"
     ]
    }
   ],
   "source": [
    "#Direct wave velocity\n",
    "vel1=round((1/slope1),3)\n",
    "\n",
    "#Critically refracted wave velocity\n",
    "vel2=round((1/slope2),3)\n",
    "\n",
    "print('Direct wave velocity:', vel1, 'm/ms')\n",
    "print()\n",
    "print('Critically refracted wave velocity:', vel2,'m/ms')\n",
    "\n"
   ]
  },
  {
   "cell_type": "markdown",
   "metadata": {},
   "source": [
    "Se hace uso de la ley de Snell para saber el ángulo crítico al cual se refractó la onda\n",
    "\n",
    "Seni1 = vel1/vel2"
   ]
  },
  {
   "cell_type": "code",
   "execution_count": 11,
   "metadata": {},
   "outputs": [
    {
     "name": "stdout",
     "output_type": "stream",
     "text": [
      "Álgulo crítico de refracción: 22.646 °\n"
     ]
    }
   ],
   "source": [
    "#i1 es el ángulo de refracción crítico.\n",
    "i1 = np.arcsin(vel1/vel2)\n",
    "print('Álgulo crítico de refracción:',round(np.degrees(i1),3),'°',sep=' ')  "
   ]
  },
  {
   "cell_type": "markdown",
   "metadata": {},
   "source": [
    "Los tiempos de llegada de las ‘head-waves’ generadas por las ondas que se\n",
    "refractan críticamente en la frontera, hasta la superficie, se predicen con la siguiente\n",
    "ecuación:\n",
    "\n",
    "t=x/vel2 + (2h1cosi1)/v1\n",
    "t0 = intercepto con y\n",
    "h1 = (t0*vel1)/(2*cosi1)\n"
   ]
  },
  {
   "cell_type": "code",
   "execution_count": 12,
   "metadata": {},
   "outputs": [
    {
     "name": "stdout",
     "output_type": "stream",
     "text": [
      "Espesor del estrato: 37.071 m\n"
     ]
    }
   ],
   "source": [
    "h1 = (intercept2*vel1)/(2*(np.cos(i1)))\n",
    "print('Espesor del estrato:',round(h1,3),'m',sep=' ') \n"
   ]
  }
 ],
 "metadata": {
  "kernelspec": {
   "display_name": "Python 3",
   "language": "python",
   "name": "python3"
  },
  "language_info": {
   "codemirror_mode": {
    "name": "ipython",
    "version": 3
   },
   "file_extension": ".py",
   "mimetype": "text/x-python",
   "name": "python",
   "nbconvert_exporter": "python",
   "pygments_lexer": "ipython3",
   "version": "3.11.0"
  }
 },
 "nbformat": 4,
 "nbformat_minor": 2
}
